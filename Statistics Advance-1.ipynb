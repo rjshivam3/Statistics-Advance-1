{
 "cells": [
  {
   "cell_type": "markdown",
   "id": "944e62f3-6e5f-4fec-9f6b-9cf1c6b6c7cb",
   "metadata": {},
   "source": [
    "### Q1. What is the Probability Density Function?"
   ]
  },
  {
   "cell_type": "markdown",
   "id": "e873f427-0ab5-4bb6-a09a-311c90e3a0cc",
   "metadata": {},
   "source": [
    "A **Probability Density Function (PDF)** describes the likelihood of a random variable taking on a particular value. For continuous random variables, the PDF is a function that defines the probability of the variable falling within a particular range of values, rather than taking on any one value. The PDF is denoted as \\( f(x) \\), and the probability that \\( X \\) falls between two values \\( a \\) and \\( b \\) is given by the integral of the PDF over that range:\n",
    "\\[ P(a \\leq X \\leq b) = \\int_a^b f(x) \\, dx \\]"
   ]
  },
  {
   "cell_type": "markdown",
   "id": "9a59ba6a-7072-47db-9d80-d222e816917e",
   "metadata": {},
   "source": [
    "### Q2. What are the types of Probability Distribution?"
   ]
  },
  {
   "cell_type": "markdown",
   "id": "d82d5713-d258-4a68-b125-a3afa90bcc1d",
   "metadata": {},
   "source": [
    "Probability distributions can be broadly categorized into two types:\n",
    "\n",
    "1. **Discrete Probability Distributions**: These apply to scenarios where the set of possible outcomes is discrete (e.g., integers). Examples include:\n",
    "   - Binomial Distribution\n",
    "   - Poisson Distribution\n",
    "   - Geometric Distribution\n",
    "   \n",
    "\n",
    "2. **Continuous Probability Distributions**: These apply to scenarios where the set of possible outcomes can take on any value within a range. Examples include:\n",
    "   - Normal Distribution\n",
    "   - Exponential Distribution\n",
    "   - Uniform Distribution"
   ]
  },
  {
   "cell_type": "markdown",
   "id": "6b21e49e-01fb-4710-88e0-89b9b1197b1b",
   "metadata": {},
   "source": [
    "### Q3. Python function to calculate the PDF of a normal distribution"
   ]
  },
  {
   "cell_type": "markdown",
   "id": "7c9b77ca-8cef-49b6-b302-bcf249c6e4f7",
   "metadata": {},
   "source": [
    "Here's a Python function to calculate the PDF of a normal distribution given a mean (\\(\\mu\\)) and standard deviation (\\(\\sigma\\)) at a given point \\(x\\):\n"
   ]
  },
  {
   "cell_type": "code",
   "execution_count": 2,
   "id": "2a7edc6f-148c-46d7-8926-3ad0c85a6d36",
   "metadata": {},
   "outputs": [
    {
     "name": "stdout",
     "output_type": "stream",
     "text": [
      "0.5311259660135984\n"
     ]
    }
   ],
   "source": [
    "import math\n",
    "\n",
    "def normal_pdf(x, mean, std_dev):\n",
    "    coefficient = 1 / (std_dev * math.sqrt(2 * math.sqrt(math.pi)))\n",
    "    exponent = math.exp(-0.5 * ((x - mean) / std_dev) ** 2)\n",
    "    return coefficient * exponent\n",
    "\n",
    "\n",
    "mean = 0\n",
    "std_dev = 1\n",
    "x = 0\n",
    "print(normal_pdf(x, mean, std_dev))"
   ]
  },
  {
   "cell_type": "markdown",
   "id": "78f7874b-bf1a-48c8-bdf3-81a72ba7ea97",
   "metadata": {},
   "source": [
    "### Q4. Properties of Binomial Distribution and Examples"
   ]
  },
  {
   "cell_type": "markdown",
   "id": "c57db7c0-c69b-44ec-be91-d90eb1438b8d",
   "metadata": {},
   "source": [
    "**Properties of Binomial Distribution**:\n",
    "1. **Number of Trials**: The number of trials, \\( n \\), is fixed.\n",
    "2. **Two Possible Outcomes**: Each trial results in a success or failure.\n",
    "3. **Constant Probability**: The probability of success, \\( p \\), is the same for each trial.\n",
    "4. **Independent Trials**: The trials are independent of each other.\n",
    "\n",
    "**Examples**:\n",
    "1. **Coin Tossing**: Tossing a coin \\( n \\) times and counting the number of heads (successes).\n",
    "2. **Quality Control**: Testing \\( n \\) items from a production line to see how many are defective (success or failure)."
   ]
  },
  {
   "cell_type": "markdown",
   "id": "b8949bda-18d5-4809-80a3-e4d6f76cde3a",
   "metadata": {},
   "source": [
    "### Q5. Generate a Random Sample from Binomial Distribution and Plot Histogram\n"
   ]
  },
  {
   "cell_type": "markdown",
   "id": "c2ec95c6-b682-472f-a0cc-bca8c4cdc4f0",
   "metadata": {},
   "source": [
    "Here's how to generate a sample and plot the histogram:"
   ]
  },
  {
   "cell_type": "code",
   "execution_count": 3,
   "id": "984cec0d-01d7-457f-88fd-9340750ba02c",
   "metadata": {},
   "outputs": [
    {
     "data": {
      "image/png": "[encoded data removed]",
      "text/plain": [
       "<Figure size 640x480 with 1 Axes>"
      ]
     },
     "metadata": {},
     "output_type": "display_data"
    }
   ],
   "source": [
    "import numpy as np\n",
    "import matplotlib.pyplot as plt\n",
    "\n",
    "n = 10\n",
    "p = 0.4\n",
    "size = 1000\n",
    "\n",
    "sample = np.random.binomial(n, p, size)\n",
    "\n",
    "plt.hist(sample, bins=range(n+2), edgecolor='black', alpha=0.7)\n",
    "plt.title('Histogram of Binomial Distribution')\n",
    "plt.xlabel('Number of Successes')\n",
    "plt.ylabel('Frequency')\n",
    "plt.show()"
   ]
  },
  {
   "cell_type": "markdown",
   "id": "86d46469-d1a5-404d-98e7-2962456510ff",
   "metadata": {},
   "source": [
    "### Q6. Python function to calculate the CDF of a Poisson distribution"
   ]
  },
  {
   "cell_type": "markdown",
   "id": "3733f7fd-5c84-4bbb-8386-f8348e2c6368",
   "metadata": {},
   "source": [
    "Here's a Python function to calculate the CDF of a Poisson distribution with a given mean (\\(\\lambda\\)) at a given point \\(k\\):"
   ]
  },
  {
   "cell_type": "code",
   "execution_count": 4,
   "id": "4e56b8a2-5be8-410a-9630-bb942bb1d130",
   "metadata": {},
   "outputs": [
    {
     "name": "stdout",
     "output_type": "stream",
     "text": [
      "0.9160820579686966\n"
     ]
    }
   ],
   "source": [
    "from scipy.stats import poisson\n",
    "\n",
    "def poisson_cdf(k, lam):\n",
    "    return poisson.cdf(k, lam)\n",
    "\n",
    "lam = 3\n",
    "k = 5\n",
    "print(poisson_cdf(k, lam))"
   ]
  },
  {
   "cell_type": "markdown",
   "id": "0a0dbc1c-f603-401a-a316-d3e881b9899e",
   "metadata": {},
   "source": [
    "### Q7. Differences between Binomial and Poisson Distributions"
   ]
  },
  {
   "cell_type": "markdown",
   "id": "100dde8c-0b8a-4b4f-bd1f-a16a64c47df8",
   "metadata": {},
   "source": [
    "**Binomial Distribution**:\n",
    "- Discrete probability distribution of the number of successes in a sequence of \\( n \\) independent experiments.\n",
    "- Each experiment results in a success or failure.\n",
    "- Probability of success (\\( p \\)) is the same for each trial.\n",
    "\n",
    "**Poisson Distribution**:\n",
    "- Discrete probability distribution of the number of events occurring in a fixed interval of time or space.\n",
    "- Events occur with a known constant mean rate (\\(\\lambda\\)) and independently of the time since the last event."
   ]
  },
  {
   "cell_type": "markdown",
   "id": "f44c2262-495e-4013-bfa6-c1ec429f5e30",
   "metadata": {},
   "source": [
    "### Q8. Generate a Random Sample from Poisson Distribution and Calculate Sample Mean and Variance"
   ]
  },
  {
   "cell_type": "markdown",
   "id": "5956d290-7ffa-410b-8c1c-58f22a755b99",
   "metadata": {},
   "source": [
    "Here's how to generate a sample and calculate the mean and variance:"
   ]
  },
  {
   "cell_type": "code",
   "execution_count": 5,
   "id": "9652657d-3cda-4b5d-98a1-073c900dd6bd",
   "metadata": {},
   "outputs": [
    {
     "name": "stdout",
     "output_type": "stream",
     "text": [
      "Sample Mean: 4.95\n",
      "Sample Variance: 4.5435\n"
     ]
    }
   ],
   "source": [
    "import numpy as np\n",
    "\n",
    "lam = 5\n",
    "size = 1000\n",
    "\n",
    "sample = np.random.poisson(lam, size)\n",
    "\n",
    "sample_mean = np.mean(sample)\n",
    "sample_variance = np.var(sample)\n",
    "\n",
    "print(f'Sample Mean: {sample_mean}')\n",
    "print(f'Sample Variance: {sample_variance}')"
   ]
  },
  {
   "cell_type": "markdown",
   "id": "7cca9369-5912-409f-bea5-740db824f6a8",
   "metadata": {},
   "source": [
    "### Q9. Relationship between Mean and Variance in Binomial and Poisson Distributions"
   ]
  },
  {
   "cell_type": "markdown",
   "id": "62ba70a1-591f-4950-b0da-4bdd54c16e7f",
   "metadata": {},
   "source": [
    "- **Binomial Distribution**: The mean (\\(\\mu\\)) and variance (\\(\\sigma^2\\)) are given by:\n",
    "  \\[\n",
    "  \\mu = n \\cdot p\n",
    "  \\]\n",
    "  \\[\n",
    "  \\sigma^2 = n \\cdot p \\cdot (1 - p)\n",
    "  \\]\n",
    "\n",
    "- **Poisson Distribution**: The mean (\\(\\lambda\\)) and variance (\\(\\sigma^2\\)) are equal:\n",
    "  \\[\n",
    "  \\mu = \\lambda\n",
    "  \\]\n",
    "  \\[\n",
    "  \\sigma^2 = \\lambda\n",
    "  \\]"
   ]
  },
  {
   "cell_type": "markdown",
   "id": "24917151-192f-4f32-abfa-9aa7c5b07ffb",
   "metadata": {},
   "source": [
    "### Q10. Least Frequent Data in Normal Distribution"
   ]
  },
  {
   "cell_type": "markdown",
   "id": "f50c9c39-660e-4d59-bfcb-05b262efadd1",
   "metadata": {},
   "source": [
    "In a normal distribution, the least frequent data appear in the tails, far from the mean. These are the extreme values, lying more than a few standard deviations away from the mean. This is because the PDF of a normal distribution decreases rapidly as you move away from the mean."
   ]
  },
  {
   "cell_type": "code",
   "execution_count": null,
   "id": "d2fc8edd-f59b-4473-a1ff-3b66d68192b3",
   "metadata": {},
   "outputs": [],
   "source": []
  }
 ],
 "metadata": {
  "kernelspec": {
   "display_name": "Python 3 (ipykernel)",
   "language": "python",
   "name": "python3"
  },
  "language_info": {
   "codemirror_mode": {
    "name": "ipython",
    "version": 3
   },
   "file_extension": ".py",
   "mimetype": "text/x-python",
   "name": "python",
   "nbconvert_exporter": "python",
   "pygments_lexer": "ipython3",
   "version": "3.10.8"
  }
 },
 "nbformat": 4,
 "nbformat_minor": 5
}
